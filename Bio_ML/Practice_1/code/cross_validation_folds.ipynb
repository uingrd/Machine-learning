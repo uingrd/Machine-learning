{
 "cells": [
  {
   "cell_type": "code",
   "execution_count": 22,
   "metadata": {},
   "outputs": [],
   "source": [
    "import numpy as np\n",
    "import pandas as pd\n",
    "from sklearn import datasets\n",
    "from sklearn.neighbors import KNeighborsClassifier\n",
    "from sklearn.model_selection import train_test_split\n",
    "from sklearn.model_selection import cross_val_score"
   ]
  },
  {
   "cell_type": "code",
   "execution_count": 23,
   "metadata": {},
   "outputs": [],
   "source": [
    "# Here we split the data 0.6:0.4\n",
    "# iris=datasets.load_iris()\n",
    "# x_train,x_test,y_train,y_test=train_test_split(\n",
    "#     iris.data,iris.target,test_size=0.4,random_state=0)"
   ]
  },
  {
   "cell_type": "code",
   "execution_count": 24,
   "metadata": {},
   "outputs": [],
   "source": [
    "# print(x_train.shape)\n",
    "# print(x_test.shape)\n",
    "# print(y_train.shape)\n",
    "# print(y_test.shape)"
   ]
  },
  {
   "cell_type": "code",
   "execution_count": 32,
   "metadata": {},
   "outputs": [
    {
     "name": "stdout",
     "output_type": "stream",
     "text": [
      "[0.96 0.92]\n",
      "Accuracy:0.94(+/-0.04)\n",
      "----------------------------------------------\n",
      "[0.98039216 0.98039216 1.        ]\n",
      "Accuracy:0.99(+/-0.02)\n",
      "----------------------------------------------\n",
      "[0.97435897 0.94871795 0.94444444 1.        ]\n",
      "Accuracy:0.97(+/-0.04)\n",
      "----------------------------------------------\n",
      "[0.96666667 1.         0.93333333 0.96666667 1.        ]\n",
      "Accuracy:0.97(+/-0.05)\n",
      "----------------------------------------------\n",
      "[0.96296296 1.         0.91666667 0.91666667 1.         1.        ]\n",
      "Accuracy:0.97(+/-0.07)\n",
      "----------------------------------------------\n",
      "[0.95833333 1.         0.95238095 0.9047619  0.95238095 1.\n",
      " 1.        ]\n",
      "Accuracy:0.97(+/-0.07)\n",
      "----------------------------------------------\n",
      "[0.95238095 1.         1.         0.88888889 0.94444444 0.94444444\n",
      " 1.         1.        ]\n",
      "Accuracy:0.97(+/-0.08)\n",
      "----------------------------------------------\n"
     ]
    }
   ],
   "source": [
    "#Create the KNNClassifer\n",
    "knn=KNeighborsClassifier()\n",
    "# knn.fit(x_train,y_train)\n",
    "for i in range(2,9):\n",
    "    scores=cross_val_score(knn,iris.data,iris.target,cv=i)\n",
    "    print(scores)\n",
    "    print(\"Accuracy:%0.2f(+/-%0.2f)\"%(scores.mean(),scores.std()*2))\n",
    "    print(\"----------------------------------------------\")"
   ]
  },
  {
   "cell_type": "code",
   "execution_count": null,
   "metadata": {},
   "outputs": [],
   "source": []
  }
 ],
 "metadata": {
  "kernelspec": {
   "display_name": "Python 3",
   "language": "python",
   "name": "python3"
  },
  "language_info": {
   "codemirror_mode": {
    "name": "ipython",
    "version": 3
   },
   "file_extension": ".py",
   "mimetype": "text/x-python",
   "name": "python",
   "nbconvert_exporter": "python",
   "pygments_lexer": "ipython3",
   "version": "3.6.4"
  }
 },
 "nbformat": 4,
 "nbformat_minor": 2
}
