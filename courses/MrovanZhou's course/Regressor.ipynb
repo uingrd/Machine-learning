{
 "cells": [
  {
   "cell_type": "markdown",
   "metadata": {},
   "source": [
    "### 导入模块并创建数据\n",
    "\n",
    "#### models.Sequential，用来一层一层一层的去建立神经层； layers.Dense 意思是这个神经层是全连接层。"
   ]
  },
  {
   "cell_type": "code",
   "execution_count": 5,
   "metadata": {},
   "outputs": [
    {
     "data": {
      "image/png": "[encoded data removed]",
      "text/plain": [
       "<matplotlib.figure.Figure at 0x7f9e00f35e48>"
      ]
     },
     "metadata": {},
     "output_type": "display_data"
    }
   ],
   "source": [
    "import numpy as np\n",
    "np.random.seed(1337)  # for reproducibility\n",
    "from keras.models import Sequential\n",
    "from keras.layers import Dense\n",
    "import matplotlib.pyplot as plt # 可视化模块\n",
    "\n",
    "# create some data\n",
    "X = np.linspace(-1, 1, 200)\n",
    "np.random.shuffle(X)    # randomize the data\n",
    "Y = 0.5 * X + 2 + np.random.normal(0, 0.05, (200, ))\n",
    "# plot data\n",
    "plt.scatter(X, Y)\n",
    "plt.show()\n",
    "\n",
    "X_train, Y_train = X[:160], Y[:160]     # train 前 160 data points\n",
    "X_test, Y_test = X[160:], Y[160:]       # test 后 40 data points"
   ]
  },
  {
   "cell_type": "markdown",
   "metadata": {},
   "source": [
    "## 建立模型 "
   ]
  },
  {
   "cell_type": "markdown",
   "metadata": {},
   "source": [
    "#### 用 Sequential 建立 model， 再用 model.add 添加神经层，添加的是 Dense 全连接神经层。\n",
    "\n",
    "数有两个，一个是输入数据和输出数据的维度，本代码的例子中 x 和 y 是一维的\n",
    "\n",
    "如果需要添加下一个神经层的时候，不用再定义输入的纬度，因为它默认就把前一层的输出作为当前层的输入"
   ]
  },
  {
   "cell_type": "code",
   "execution_count": 11,
   "metadata": {},
   "outputs": [
    {
     "name": "stderr",
     "output_type": "stream",
     "text": [
      "/home/chanchan/yes/lib/python3.6/site-packages/ipykernel_launcher.py:2: UserWarning: Update your `Dense` call to the Keras 2 API: `Dense(input_dim=1, units=1)`\n",
      "  \n"
     ]
    }
   ],
   "source": [
    "model = Sequential()\n",
    "model.add(Dense(output_dim=1, input_dim=1))"
   ]
  },
  {
   "cell_type": "markdown",
   "metadata": {},
   "source": [
    "### 激活模型 \n",
    "\n",
    "参数中，误差函数用的是 mse 均方误差；优化器用的是 sgd 随机梯度下降法"
   ]
  },
  {
   "cell_type": "code",
   "execution_count": 12,
   "metadata": {},
   "outputs": [],
   "source": [
    "# choose loss function and optimizing method\n",
    "model.compile(loss='mse', optimizer='sgd')"
   ]
  },
  {
   "cell_type": "markdown",
   "metadata": {},
   "source": [
    "### 训练模型\n",
    "\n",
    "训练的时候用 model.train_on_batch 一批一批的训练 X_train, Y_train。默认的返回值是 cost，每100步输出一下结果"
   ]
  },
  {
   "cell_type": "code",
   "execution_count": 19,
   "metadata": {},
   "outputs": [
    {
     "name": "stdout",
     "output_type": "stream",
     "text": [
      "Training -----------\n",
      "train cost:  0.0026214286\n",
      "train cost:  0.0026214295\n",
      "train cost:  0.0026214288\n",
      "train cost:  0.002621428\n"
     ]
    }
   ],
   "source": [
    "# training\n",
    "print('Training -----------')\n",
    "for step in range(301):\n",
    "    cost = model.train_on_batch(X_train, Y_train)\n",
    "    if step % 100 == 0:\n",
    "        print('train cost: ', cost)"
   ]
  },
  {
   "cell_type": "markdown",
   "metadata": {},
   "source": [
    "### 检验模型"
   ]
  },
  {
   "cell_type": "code",
   "execution_count": 21,
   "metadata": {},
   "outputs": [
    {
     "name": "stdout",
     "output_type": "stream",
     "text": [
      "\n",
      "Testing ------------\n",
      "40/40 [==============================] - 0s 20us/step\n",
      "test cost: 0.0032469783909618855\n",
      "Weights= [[0.4913511]] \n",
      "biases= [2.0040517]\n"
     ]
    }
   ],
   "source": [
    "# test\n",
    "print('\\nTesting ------------')\n",
    "cost = model.evaluate(X_test, Y_test, batch_size=40)\n",
    "print('test cost:', cost)\n",
    "W, b = model.layers[0].get_weights()\n",
    "print('Weights=', W, '\\nbiases=', b)"
   ]
  },
  {
   "cell_type": "code",
   "execution_count": 22,
   "metadata": {},
   "outputs": [
    {
     "data": {
      "image/png": "[encoded data removed]",
      "text/plain": [
       "<matplotlib.figure.Figure at 0x7f9dfc16a940>"
      ]
     },
     "metadata": {},
     "output_type": "display_data"
    }
   ],
   "source": [
    "# plotting the prediction\n",
    "Y_pred = model.predict(X_test)\n",
    "plt.scatter(X_test, Y_test)\n",
    "plt.plot(X_test, Y_pred)\n",
    "plt.show()\n"
   ]
  },
  {
   "cell_type": "code",
   "execution_count": null,
   "metadata": {},
   "outputs": [],
   "source": []
  }
 ],
 "metadata": {
  "kernelspec": {
   "display_name": "Python 3",
   "language": "python",
   "name": "python3"
  },
  "language_info": {
   "codemirror_mode": {
    "name": "ipython",
    "version": 3
   },
   "file_extension": ".py",
   "mimetype": "text/x-python",
   "name": "python",
   "nbconvert_exporter": "python",
   "pygments_lexer": "ipython3",
   "version": "3.6.4"
  }
 },
 "nbformat": 4,
 "nbformat_minor": 2
}
