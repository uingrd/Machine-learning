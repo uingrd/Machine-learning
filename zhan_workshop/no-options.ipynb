{
 "cells": [
  {
   "cell_type": "markdown",
   "metadata": {},
   "source": [
    "# workshop project"
   ]
  },
  {
   "cell_type": "markdown",
   "metadata": {},
   "source": [
    "1.The goal is to implement algorithms for (sparse) linear regression and to\n",
    "conduct experiments\n",
    "The implementations and experiments should be conducted using python\n",
    "in a jupyter notebook. Every function you implement should have a doc\n",
    "strings that describes the role of the function arguments, the effect of the\n",
    "function, and the output of the function. Your code should not access the\n",
    "filesystem in any way.\n",
    "Do at least two of the optional steps. (You can also propose to me other\n",
    "experiments that you want to carry out instead.)"
   ]
  },
  {
   "cell_type": "code",
   "execution_count": 17,
   "metadata": {},
   "outputs": [],
   "source": [
    "# Author: Donglin Zhan <@>"
   ]
  },
  {
   "cell_type": "code",
   "execution_count": 18,
   "metadata": {},
   "outputs": [],
   "source": [
    "import numpy as np\n",
    "import pandas as pd \n",
    "import matplotlib.pyplot as plt \n",
    "import seaborn as sns"
   ]
  },
  {
   "cell_type": "markdown",
   "metadata": {},
   "source": [
    "1.Implement a function draw_observation that given a matrix A and a\n",
    "vector $x^{0}$, outputs a realization of the random variable $\n",
    "A x^{0}+\\boldsymbol{w}\n",
    "$, where\n",
    "w is a standard Gaussian."
   ]
  },
  {
   "cell_type": "code",
   "execution_count": 19,
   "metadata": {},
   "outputs": [],
   "source": [
    "def draw_observation(A, x0):\n",
    "    \"\"\"computes a random variable np.dot(A, x0) + w\n",
    "       w ~ Gaussian(loc = 0., scale = 1.)\n",
    "    \n",
    "    This function computes a random variable Ax0+w, where\n",
    "    w is a standard Gaussian.\n",
    "    \n",
    "    \n",
    "    Parameters\n",
    "    ----------\n",
    "    A: {array-like, matrix}, shape (n, d)\n",
    "       Known matrix\n",
    "       \n",
    "    x0: ndarray, shape (d,)\n",
    "       Unknown vector\n",
    "       \n",
    "    Returns\n",
    "    -------\n",
    "    draw_observation: ndarray, shape(n,)\n",
    "    \n",
    "    \n",
    "    \"\"\"\n",
    "    w = np.random.normal(size = A.shape[0])\n",
    "    return np.dot(A,x0) + w"
   ]
  },
  {
   "cell_type": "markdown",
   "metadata": {},
   "source": [
    "2.Implement a function prediction_error that given $\n",
    "A, x^{0}, x\n",
    "$ outputs\n",
    "the square prediction error $\n",
    "1 / n \\cdot\\left\\|A x-A x^{0}\\right\\|^{2}\n",
    "$"
   ]
  },
  {
   "cell_type": "code",
   "execution_count": 20,
   "metadata": {},
   "outputs": [],
   "source": [
    "def prediction_error(A, x0, x):\n",
    "    \"\"\"\n",
    "    This function computes the square prediction error \n",
    "    \n",
    "    Parameters\n",
    "    ----------\n",
    "    A: {array-like, matrix}, shape (n, d)\n",
    "       Known matrix\n",
    "       \n",
    "    x0: ndarray, shape (d,)\n",
    "       Unknown vector\n",
    "    \n",
    "    x: ndarray, shape (n,)\n",
    "       Estimation vector    \n",
    "       \n",
    "    Returns\n",
    "    -------\n",
    "    prediction_error: float\n",
    "\n",
    "        \n",
    "    \"\"\"\n",
    "\n",
    "    return np.linalg.norm(np.dot(A, x) - np.dot(A, x0), ord=2) ** 2 / A.shape[0]"
   ]
  },
  {
   "cell_type": "markdown",
   "metadata": {},
   "source": [
    "3.Implement a function loglikelihood that given $\n",
    "A, x, y\n",
    "$ outputs the\n",
    "(scaled) log likelihood $\n",
    "1 / n \\cdot\\|A x-y\\|^{2}\n",
    "$"
   ]
  },
  {
   "cell_type": "code",
   "execution_count": 21,
   "metadata": {},
   "outputs": [],
   "source": [
    "def loglikelihood(A, x, y):\n",
    "    \"\"\"\n",
    "    This function computes the  (scaled) log likelihood \n",
    "    \n",
    "    Parameters\n",
    "    ----------\n",
    "    A: {array-like, matrix}, shape (n, d)\n",
    "       Known matrix\n",
    "       \n",
    "    x: ndarray, shape (d,)\n",
    "       Unknown vector\n",
    "    \n",
    "    y: ndarray, shape (n,)\n",
    "       Array of labels.    \n",
    "       \n",
    "    Returns\n",
    "    -------\n",
    "    loglikelihood: float\n",
    "        \n",
    "    \"\"\"    \n",
    "\n",
    "    return np.linalg.norm(np.dot(A, x) - y, ord=2) ** 2 / A.shape[0]"
   ]
  },
  {
   "cell_type": "markdown",
   "metadata": {},
   "source": [
    "4.Implement a function gradient that given $\n",
    "A, x, y\n",
    "$ outputs the gradient\n",
    "of the above log likelihood function with respect to x"
   ]
  },
  {
   "cell_type": "code",
   "execution_count": 22,
   "metadata": {},
   "outputs": [],
   "source": [
    "def gradient(A, x, y):\n",
    "    \"\"\"\n",
    "    This function computes the gradient of (scaled) log likelihood \n",
    "    \n",
    "    Parameters\n",
    "    ----------\n",
    "    A: {array-like, matrix}, shape (n, d)\n",
    "       Known matrix\n",
    "       \n",
    "    x: ndarray, shape (d,)\n",
    "       UnKnown vector\n",
    "    \n",
    "    y: ndarray, shape (n,)\n",
    "       Array of labels.    \n",
    "       \n",
    "    Returns\n",
    "    -------\n",
    "    gradient: float\n",
    "        \n",
    "    \"\"\"    \n",
    "    return (A.T.dot(A).dot(x) - A.T.dot(y)) * 2 / A.shape[0]"
   ]
  },
  {
   "cell_type": "markdown",
   "metadata": {},
   "source": [
    "5.Implement a function gradient_descent that given $A, y, T, \\gamma, x^{i n i t}$\n",
    "; $x^{i n i t}$\n",
    "runs gradient descent starting at xinit for T steps with step size \n",
    ".\n",
    "This function should use the previous one to compute a gradient in\n",
    "each step. The output of the function should be an array of all T + 1\n",
    "iterates that gradient descent computed."
   ]
  },
  {
   "cell_type": "code",
   "execution_count": 23,
   "metadata": {},
   "outputs": [],
   "source": [
    "def gradient_descent(A, y, T, gamma, x_init):\n",
    "    \"\"\"\n",
    "    This function implements gradient descent\n",
    "    \n",
    "    Parameters\n",
    "    ----------\n",
    "    A: {array-like, matrix}, shape (n, d)\n",
    "       Known matrix\n",
    "       \n",
    "    x_init: ndarray, shape (d,)\n",
    "       initial vector\n",
    "    \n",
    "    y: ndarray, shape (n,)\n",
    "       Array of labels.    \n",
    "    \n",
    "    T: scalar\n",
    "       step\n",
    "    \n",
    "    gamma: float \n",
    "       step size\n",
    "    \n",
    "    Returns\n",
    "    -------\n",
    "    output : list\n",
    "    all T + 1 iterates that gradient descent computed\n",
    "    \n",
    "    \"\"\"\n",
    "    output = []\n",
    "    x = x_init\n",
    "    for i in range(T+1):\n",
    "        x_next = x - gamma * gradient(A, x, y)\n",
    "        x = x_next\n",
    "        output.append(x)\n",
    "    return output"
   ]
  },
  {
   "cell_type": "markdown",
   "metadata": {},
   "source": [
    "6.Implement a function plot_prediction that given $A, x^{0}$ and a list of\n",
    "iterates plots the prediction errors of the iterates"
   ]
  },
  {
   "cell_type": "code",
   "execution_count": 24,
   "metadata": {},
   "outputs": [],
   "source": [
    "def plot_prediction(A, x0, list_of_iterates):\n",
    "    \"\"\"\n",
    "    This function plots the prediction errors\n",
    "    \n",
    "    Parameters\n",
    "    ----------\n",
    "    A: {array-like, matrix}, shape (n, d)\n",
    "       Known matrix\n",
    "       \n",
    "    x0: ndarray, shape (d,)\n",
    "       UnKnown vector\n",
    "    \n",
    "    list_of_iterates: list\n",
    "        list of iterates\n",
    "       \n",
    "    Returns\n",
    "    -------\n",
    "    None\n",
    "        \n",
    "    \"\"\" \n",
    "    errors = []\n",
    "    for i in range(len(list_of_iterates)):\n",
    "        error = prediction_error(A, x0, list_of_iterates[i])\n",
    "        errors.append(error)\n",
    "    plt.xlabel('iterates')\n",
    "    plt.ylabel('error')\n",
    "    plt.plot([i for i in range(len(list_of_iterates))], errors, label='prediction error')\n",
    "    plt.legend\n",
    "    plt.show"
   ]
  },
  {
   "cell_type": "markdown",
   "metadata": {},
   "source": [
    "7.Implement a function plot_optimization that given $A, y$ and a list of\n",
    "iterates plots the loglikelihoods of the iterates"
   ]
  },
  {
   "cell_type": "code",
   "execution_count": 25,
   "metadata": {},
   "outputs": [],
   "source": [
    "def plot_optimization(A, y, list_of_iterates):\n",
    "    \"\"\"\n",
    "    This function plots the prediction errors\n",
    "    \n",
    "    Parameters\n",
    "    ----------\n",
    "    A: {array-like, matrix}, shape (n, d)\n",
    "       Known matrix\n",
    "       \n",
    "    y: ndarray, shape (n,)\n",
    "       Array of labels.    \n",
    "    \n",
    "    list_of_iterates: list\n",
    "       list of iterates\n",
    "       \n",
    "    Returns\n",
    "    -------\n",
    "    None\n",
    "        \n",
    "    \"\"\" \n",
    "    log_likelihoods = []\n",
    "    for i in range(len(list_of_iterates)):\n",
    "        likelihood = loglikelihood(A, list_of_iterates[i], y)\n",
    "        log_likelihoods.append(likelihood)\n",
    "    plt.xlabel('iterates')\n",
    "    plt.ylabel('log likelihood')\n",
    "    plt.plot([i for i in range(len(list_of_iterates))], log_likelihoods, label='optimization')\n",
    "    plt.legend\n",
    "    plt.show"
   ]
  },
  {
   "cell_type": "markdown",
   "metadata": {},
   "source": [
    "8.Implement a function random_unit_vector that given d outputs a\n",
    "random unit vector. You can obtain such a vector by first choosing\n",
    "a d-dimensional standard Gaussian vector v and then scaling this\n",
    "vector by $1 /\\|v\\|$"
   ]
  },
  {
   "cell_type": "code",
   "execution_count": 26,
   "metadata": {},
   "outputs": [],
   "source": [
    "def random_unit_vector(d):\n",
    "    \"\"\"\n",
    "    This function generates a random unit vector\n",
    "    \n",
    "    Parameters\n",
    "    ----------\n",
    "       \n",
    "    d: scalar\n",
    "       dimensions of Gaussian     \n",
    "\n",
    "    Returns\n",
    "    -------\n",
    "    random_vector:ndarray\n",
    "        \n",
    "    \"\"\" \n",
    "    random_vector = np.random.normal(size=(d,1))\n",
    "    random_vector /= np.linalg.norm(random_vector, ord=2)\n",
    "    return random_vector"
   ]
  },
  {
   "cell_type": "markdown",
   "metadata": {},
   "source": [
    "9.Implement a function random_model that given d and n, outputs a\n",
    "matrix A and a vector x0 such that every entry of A is a standard\n",
    "Gaussian and x0 is a random unit vector."
   ]
  },
  {
   "cell_type": "code",
   "execution_count": 27,
   "metadata": {},
   "outputs": [],
   "source": [
    "def random_model(d, n):\n",
    "    \"\"\"\n",
    "    This function generates a matrix whose every entry is a \n",
    "    standard Gaussian and a vector x0 is a randoim unit vector\n",
    "    \n",
    "    Parameters\n",
    "    ----------\n",
    "       \n",
    "    d: scalar\n",
    "       dimensions of Gaussian     \n",
    "    \n",
    "    n: scalar\n",
    "       number of entries\n",
    "       \n",
    "    Returns\n",
    "    -------\n",
    "    A: matrix, shape (n, d)\n",
    "    x0: ndarray, shape(d,)\n",
    "        \n",
    "    \"\"\" \n",
    "    A = np.mat(np.zeros((n, d)))\n",
    "    for i in range(n):\n",
    "        for j in range(d):\n",
    "            A[i, j] = np.random.normal(size=1)\n",
    "    x0 = random_unit_vector(d)\n",
    "    return A, x0"
   ]
  },
  {
   "cell_type": "markdown",
   "metadata": {},
   "source": [
    "10.Conduct some experiments. Choose values of d and n. Choose a step\n",
    "size \n",
    " and a number of steps T. Choose A and x0 using the function\n",
    "random_model. Choose xinit as a random unit vector. Show the plots\n",
    "for the prediction error and the loglikelihoods."
   ]
  },
  {
   "cell_type": "code",
   "execution_count": 28,
   "metadata": {},
   "outputs": [
    {
     "data": {
      "image/png": "[encoded data removed]",
      "text/plain": [
       "<Figure size 432x288 with 2 Axes>"
      ]
     },
     "metadata": {
      "needs_background": "light"
     },
     "output_type": "display_data"
    }
   ],
   "source": [
    "# parameters\n",
    "d = 10\n",
    "n = 100\n",
    "gamma = 0.02\n",
    "T = 50\n",
    "\n",
    "A, x0 = random_model(d, n)\n",
    "\n",
    "x_init = random_unit_vector(d)\n",
    "\n",
    "# draw observation\n",
    "y = draw_observation(A, x0)\n",
    "\n",
    "# compute grandient descent\n",
    "output = gradient_descent(A, y, T, gamma, x_init)\n",
    "\n",
    "# show the plots\n",
    "plt.subplot(211)\n",
    "plot_prediction(A, x0, output)\n",
    "plt.subplot(212)\n",
    "plot_optimization(A, y, output)"
   ]
  },
  {
   "cell_type": "markdown",
   "metadata": {},
   "source": [
    "12. Implement a function random_sparse_model similar to random_model but adapted to sparse linear regression. This function should have the sparsity parameter k as an additional argument."
   ]
  },
  {
   "cell_type": "code",
   "execution_count": 29,
   "metadata": {},
   "outputs": [],
   "source": [
    "def random_sparse_model(d, n, k):\n",
    "    \"\"\"\n",
    "    This function generates a matrix whose every entry is a \n",
    "    standard Gaussian and a vector x0 is a randoim unit vector\n",
    "    \n",
    "    Parameters\n",
    "    ----------\n",
    "       \n",
    "    d: scalar\n",
    "       dimensions of Gaussian     \n",
    "    \n",
    "    n: scalar\n",
    "       number of entries\n",
    "    k: scalar \n",
    "    \n",
    "    Returns\n",
    "    -------\n",
    "    A: matrix, shape (n, d)\n",
    "    x0: ndarray, shape(d,)\n",
    "        \n",
    "    \"\"\" \n",
    "    A = np.mat(np.zeros((n, d)))\n",
    "    for i in range(n):\n",
    "        for j in range(d):\n",
    "            A[i, j] = np.random.normal(size=1)\n",
    "    x0 = np.zeros((d,1))\n",
    "    for i in range(x0.shape[0]):\n",
    "        if np.count_nonzero(x0) <= k:\n",
    "            random = np.random.rand(1)\n",
    "            if random < k/d:\n",
    "                x0[i] = np.random.normal(size=1)\n",
    "    return A, x0"
   ]
  },
  {
   "cell_type": "code",
   "execution_count": null,
   "metadata": {},
   "outputs": [],
   "source": []
  },
  {
   "cell_type": "code",
   "execution_count": null,
   "metadata": {},
   "outputs": [],
   "source": []
  },
  {
   "cell_type": "code",
   "execution_count": null,
   "metadata": {},
   "outputs": [],
   "source": []
  },
  {
   "cell_type": "code",
   "execution_count": null,
   "metadata": {},
   "outputs": [],
   "source": []
  },
  {
   "cell_type": "code",
   "execution_count": null,
   "metadata": {},
   "outputs": [],
   "source": []
  }
 ],
 "metadata": {
  "kernelspec": {
   "display_name": "Python 3",
   "language": "python",
   "name": "python3"
  },
  "language_info": {
   "codemirror_mode": {
    "name": "ipython",
    "version": 3
   },
   "file_extension": ".py",
   "mimetype": "text/x-python",
   "name": "python",
   "nbconvert_exporter": "python",
   "pygments_lexer": "ipython3",
   "version": "3.6.8"
  }
 },
 "nbformat": 4,
 "nbformat_minor": 2
}
