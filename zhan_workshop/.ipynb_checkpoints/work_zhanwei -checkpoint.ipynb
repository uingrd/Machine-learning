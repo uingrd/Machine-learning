{
 "cells": [
  {
   "cell_type": "code",
   "execution_count": 86,
   "metadata": {},
   "outputs": [],
   "source": [
    "import numpy as np\n",
    "import matplotlib.pyplot as plt"
   ]
  },
  {
   "cell_type": "markdown",
   "metadata": {},
   "source": [
    "1. Implement a function draw_observation that given a matrix A and a vector x0, outputs a realization of the random variable Ax0 +w, where w is a standard Gaussian."
   ]
  },
  {
   "cell_type": "code",
   "execution_count": 87,
   "metadata": {},
   "outputs": [],
   "source": [
    "def draw_observation(A, x0):\n",
    "    \"\"\"\n",
    "    A : matrix, shape(n,d)\n",
    "    x0: vector, shape(d,)\n",
    "    output: Ax0 + w, shape(n,1)\n",
    "    (w ~ standard Gaussian)\n",
    "    \"\"\"\n",
    "    w = np.random.normal(size=(A.shape[0], 1))\n",
    "    return np.dot(A, x0) + w"
   ]
  },
  {
   "cell_type": "markdown",
   "metadata": {},
   "source": [
    "2. Implement a function prediction_error that given A, x0 , x outputs the square prediction error 1/n · ∥Ax − Ax0∥2."
   ]
  },
  {
   "cell_type": "code",
   "execution_count": 88,
   "metadata": {},
   "outputs": [],
   "source": [
    "def prediction_error(A, x0, x):\n",
    "    \"\"\"\n",
    "    \"\"\"\n",
    "    error_matrix = np.dot(A, x) - np.dot(A, x0)\n",
    "    error = np.linalg.norm(error_matrix, ord=2) ** 2 / A.shape[0]\n",
    "    return error"
   ]
  },
  {
   "cell_type": "markdown",
   "metadata": {},
   "source": [
    "3. Implement a function loglikelihood that given A,x,y outputs the (scaled) log likelihood 1/n · ∥Ax − y∥2."
   ]
  },
  {
   "cell_type": "code",
   "execution_count": 89,
   "metadata": {},
   "outputs": [],
   "source": [
    "def loglikelihood(A, x, y):\n",
    "    \"\"\"\n",
    "    \"\"\"\n",
    "    likelihood_matrix = np.dot(A, x) - y\n",
    "    log_likelihood = np.linalg.norm(likelihood_matrix, ord=2) ** 2 / A.shape[0]\n",
    "    return log_likelihood"
   ]
  },
  {
   "cell_type": "markdown",
   "metadata": {},
   "source": [
    "4.Implement a function gradient that given A, x, y outputs the gradient of the above log likelihood function with respect to x"
   ]
  },
  {
   "cell_type": "code",
   "execution_count": 90,
   "metadata": {},
   "outputs": [],
   "source": [
    "def gradient(A, x, y):\n",
    "    \"\"\"\n",
    "    \"\"\"\n",
    "    # log_likelihood = loglikelihood(A, x, y) = 1/n · ∥Ax − y∥2 = 1/n * [||Ax||2 - x.T*A.T*y - y.T*A*x + ||y||2]\n",
    "    # result should be: 1/n * (A.T*A*x + A.T*A*x- A.T*y - A.T*y)\n",
    "    return (A.T.dot(A).dot(x)*2 - A.T.dot(y)*2) / A.shape[0]"
   ]
  },
  {
   "cell_type": "markdown",
   "metadata": {},
   "source": [
    "5. Implement a function gradient_descent that given A,y,T,γ,xinit runs gradient descent starting at xinit for T steps with step size γ. This function should use the previous one to compute a gradient in each step. The output of the function should be an array of all T + 1 iterates that gradient descent computed."
   ]
  },
  {
   "cell_type": "code",
   "execution_count": 91,
   "metadata": {},
   "outputs": [],
   "source": [
    "def gradient_descent(A, y, T, gamma, x_init):\n",
    "    output = []\n",
    "    x = x_init\n",
    "    for i in range(T+1):\n",
    "        x_next = x - gamma * gradient(A, x, y)\n",
    "        x = x_next\n",
    "        output.append(x)\n",
    "    return output"
   ]
  },
  {
   "cell_type": "markdown",
   "metadata": {},
   "source": [
    "6. Implement a function plot_prediction that given A, x0 and a list of iterates plots the prediction errors of the iterates."
   ]
  },
  {
   "cell_type": "code",
   "execution_count": 92,
   "metadata": {},
   "outputs": [],
   "source": [
    "def plot_prediction(A, x0, list_of_iterates):\n",
    "    errors = []\n",
    "    for i in range(len(list_of_iterates)):\n",
    "        error = prediction_error(A, x0, list_of_iterates[i])\n",
    "        errors.append(error)\n",
    "    plt.xlabel('iterates')\n",
    "    plt.ylabel('error')\n",
    "    plt.plot([i for i in range(len(list_of_iterates))], errors, label='prediction error')\n",
    "    plt.legend\n",
    "    plt.show"
   ]
  },
  {
   "cell_type": "markdown",
   "metadata": {},
   "source": [
    "7. Implement a function plot_optimization that given A, y and a list of iterates plots the loglikelihoods of the iterates."
   ]
  },
  {
   "cell_type": "code",
   "execution_count": 93,
   "metadata": {},
   "outputs": [],
   "source": [
    "def plot_optimization(A, y, list_of_iterates):\n",
    "    log_likelihoods = []\n",
    "    for i in range(len(list_of_iterates)):\n",
    "        likelihood = loglikelihood(A, list_of_iterates[i], y)\n",
    "        log_likelihoods.append(likelihood)\n",
    "    plt.xlabel('iterates')\n",
    "    plt.ylabel('log likelihood')\n",
    "    plt.plot([i for i in range(len(list_of_iterates))], log_likelihoods, label='optimization')\n",
    "    plt.legend\n",
    "    plt.show"
   ]
  },
  {
   "cell_type": "markdown",
   "metadata": {},
   "source": [
    "8. Implement a function random_unit_vector that given d outputs a random unit vector. You can obtain such a vector by first choosing a $d$-dimensional standard Gaussian vector v and then scaling this vector by 1/∥v∥."
   ]
  },
  {
   "cell_type": "code",
   "execution_count": 94,
   "metadata": {},
   "outputs": [],
   "source": [
    "def random_unit_vector(d):\n",
    "    \"\"\"\n",
    "    \"\"\"\n",
    "    random_vector = np.random.normal(size=(d,1))\n",
    "    random_vector /= np.linalg.norm(random_vector, ord=2)\n",
    "    return random_vector"
   ]
  },
  {
   "cell_type": "markdown",
   "metadata": {},
   "source": [
    "9. Implement a function random_model that given d and n, outputs a matrix A and a vector x0 such that every entry of A is a standard Gaussian and x0 is a random unit vector."
   ]
  },
  {
   "cell_type": "code",
   "execution_count": 95,
   "metadata": {},
   "outputs": [],
   "source": [
    "def random_model(d, n):\n",
    "    A = np.mat(np.zeros((n, d)))\n",
    "    for i in range(n):\n",
    "        for j in range(d):\n",
    "            A[i, j] = np.random.normal(size=1)\n",
    "    x0 = random_unit_vector(d)\n",
    "    return A, x0"
   ]
  },
  {
   "cell_type": "markdown",
   "metadata": {},
   "source": [
    "10. Conduct some experiments. Choose values of d and n. Choose a step size γ and a number of steps T. Choose A and x0 using the function random_model. Choose xinit as a random unit vector. Show the plots for the prediction error and the loglikelihoods."
   ]
  },
  {
   "cell_type": "code",
   "execution_count": 111,
   "metadata": {},
   "outputs": [
    {
     "data": {
      "image/png": "[encoded data removed]",
      "text/plain": [
       "<Figure size 432x288 with 2 Axes>"
      ]
     },
     "metadata": {
      "needs_background": "light"
     },
     "output_type": "display_data"
    }
   ],
   "source": [
    "# parameters\n",
    "d = 10\n",
    "n = 100\n",
    "gamma = 0.02\n",
    "T = 50\n",
    "\n",
    "# \n",
    "A, x0 = random_model(d, n)\n",
    "# print(A.shape, x0.shape)\n",
    "# print(np.dot(A,x0).shape)\n",
    "#\n",
    "x_init = random_unit_vector(d)\n",
    "\n",
    "# draw observation\n",
    "y = draw_observation(A, x0)\n",
    "\n",
    "# compute grandient descent\n",
    "output = gradient_descent(A, y, T, gamma, x_init)\n",
    "\n",
    "# show the plots\n",
    "plt.subplot(211)\n",
    "plot_prediction(A, x0, output)\n",
    "plt.subplot(212)\n",
    "plot_optimization(A, y, output)\n"
   ]
  },
  {
   "cell_type": "markdown",
   "metadata": {},
   "source": [
    "12. Implement a function random_sparse_model similar to random_model but adapted to sparse linear regression. This function should have the sparsity parameter k as an additional argument."
   ]
  },
  {
   "cell_type": "code",
   "execution_count": 112,
   "metadata": {},
   "outputs": [],
   "source": [
    "def  random_sparse_model(d, n, k):\n",
    "    A = np.mat(np.zeros((n, d)))\n",
    "    for i in range(n):\n",
    "        for j in range(d):\n",
    "            A[i, j] = np.random.normal(size=1)\n",
    "    x0 = np.zeros((d,1))\n",
    "    for i in range(x0.shape[0]):\n",
    "        if np.count_nonzero(x0) <= k:\n",
    "            random = np.random.rand(1)\n",
    "            if random < k/d:\n",
    "                x0[i] = np.random.normal(size=1)\n",
    "    return A, x0"
   ]
  },
  {
   "cell_type": "code",
   "execution_count": null,
   "metadata": {},
   "outputs": [],
   "source": []
  }
 ],
 "metadata": {
  "kernelspec": {
   "display_name": "Python 3",
   "language": "python",
   "name": "python3"
  },
  "language_info": {
   "codemirror_mode": {
    "name": "ipython",
    "version": 3
   },
   "file_extension": ".py",
   "mimetype": "text/x-python",
   "name": "python",
   "nbconvert_exporter": "python",
   "pygments_lexer": "ipython3",
   "version": "3.6.8"
  }
 },
 "nbformat": 4,
 "nbformat_minor": 2
}
