{
 "cells": [
  {
   "cell_type": "markdown",
   "metadata": {},
   "source": [
    "# workshop project"
   ]
  },
  {
   "cell_type": "markdown",
   "metadata": {},
   "source": [
    "The goal is to implement algorithms for (sparse) linear regression and to\n",
    "conduct experiments\n",
    "The implementations and experiments should be conducted using python\n",
    "in a jupyter notebook. Every function you implement should have a doc\n",
    "strings that describes the role of the function arguments, the effect of the\n",
    "function, and the output of the function. Your code should not access the\n",
    "filesystem in any way.\n",
    "Do at least two of the optional steps. (You can also propose to me other\n",
    "experiments that you want to carry out instead.)"
   ]
  },
  {
   "cell_type": "code",
   "execution_count": null,
   "metadata": {},
   "outputs": [],
   "source": [
    "# Author: Donglin Zhan <@>"
   ]
  },
  {
   "cell_type": "code",
   "execution_count": 1,
   "metadata": {},
   "outputs": [],
   "source": [
    "import numpy as np\n",
    "import pandas as pd \n",
    "import matplotlib.pyplot as plt \n",
    "import seaborn as sns"
   ]
  },
  {
   "cell_type": "markdown",
   "metadata": {},
   "source": [
    "Implement a function draw_observation that given a matrix A and a\n",
    "vector $x^{0}$, outputs a realization of the random variable $\n",
    "A x^{0}+\\boldsymbol{w}\n",
    "$, where\n",
    "w is a standard Gaussian."
   ]
  },
  {
   "cell_type": "code",
   "execution_count": 3,
   "metadata": {},
   "outputs": [],
   "source": [
    "def draw_observation(A, x0):\n",
    "    \"\"\"computes a random variable np.dot(A, x0) + w\n",
    "       w ~ Gaussian(loc = 0., scale = 1.)\n",
    "    \n",
    "    This function computes a random variable Ax0+w, where\n",
    "    w is a standard Gaussian.\n",
    "    \n",
    "    \n",
    "    Parameters\n",
    "    ----------\n",
    "    A: {array-like, matrix}, shape (n, d)\n",
    "       Known matrix\n",
    "       \n",
    "    x0: ndarray, shape (d,)\n",
    "       Unknown vector\n",
    "       \n",
    "    Returns\n",
    "    -------\n",
    "    draw_observation: ndarray, shape(n,)\n",
    "    \n",
    "    \n",
    "    \"\"\"\n",
    "    w = np.random.normal(size = A.shape[0])\n",
    "    return np.dot(A,x0) + w"
   ]
  },
  {
   "cell_type": "markdown",
   "metadata": {},
   "source": [
    "Implement a function prediction_error that given $\n",
    "A, x^{0}, x\n",
    "$ outputs\n",
    "the square prediction error $\n",
    "1 / n \\cdot\\left\\|A x-A x^{0}\\right\\|^{2}\n",
    "$"
   ]
  },
  {
   "cell_type": "code",
   "execution_count": 8,
   "metadata": {},
   "outputs": [],
   "source": [
    "def prediction_error(A, x0, x):\n",
    "    \"\"\"\n",
    "    This function computes the square prediction error \n",
    "    \n",
    "    Parameters\n",
    "    ----------\n",
    "    A: {array-like, matrix}, shape (n, d)\n",
    "       Known matrix\n",
    "       \n",
    "    x0: ndarray, shape (d,)\n",
    "       Unknown vector\n",
    "    \n",
    "    x: ndarray, shape (n,)\n",
    "       Estimation vector    \n",
    "       \n",
    "    Returns\n",
    "    -------\n",
    "    prediction_error: float\n",
    "\n",
    "        \n",
    "    \"\"\"\n",
    "    return 1/(A.shape[0])*(np.linalg.norm(np.dot(A, x) - np.dot(A, x0), ord=2) ** 2)"
   ]
  },
  {
   "cell_type": "markdown",
   "metadata": {},
   "source": [
    "Implement a function loglikelihood that given $\n",
    "A, x, y\n",
    "$ outputs the\n",
    "(scaled) log likelihood $\n",
    "1 / n \\cdot\\|A x-y\\|^{2}\n",
    "$"
   ]
  },
  {
   "cell_type": "markdown",
   "metadata": {},
   "source": [
    "$$\n",
    "f(y ; x)=\\frac{1}{{\\sqrt{2 \\pi}}^{n}} e^{-| | y-A x| |^{2} / 2}\n",
    "$$"
   ]
  },
  {
   "cell_type": "code",
   "execution_count": 17,
   "metadata": {},
   "outputs": [],
   "source": [
    "def loglikelihood(A, x, y):\n",
    "    \"\"\"\n",
    "    This function computes the  (scaled) log likelihood \n",
    "    \n",
    "    Parameters\n",
    "    ----------\n",
    "    A: {array-like, matrix}, shape (n, d)\n",
    "       Known matrix\n",
    "       \n",
    "    x: ndarray, shape (d,)\n",
    "       Unknown vector\n",
    "    \n",
    "    y: ndarray, shape (n,)\n",
    "       Array of labels.    \n",
    "       \n",
    "    Returns\n",
    "    -------\n",
    "    loglikelihood: float\n",
    "        \n",
    "    \"\"\"    \n",
    "    return 1/np.pow(np.sqrt(2*np.pi), A.shape[0]) * np.exp(-1*np.linalg.norm(y - np.dot(A, x0))/2)\n"
   ]
  },
  {
   "cell_type": "markdown",
   "metadata": {},
   "source": [
    "Implement a function gradient that given $\n",
    "A, x, y\n",
    "$ outputs the gradient\n",
    "of the above log likelihood function with respect to x"
   ]
  },
  {
   "cell_type": "markdown",
   "metadata": {},
   "source": [
    "$$\n",
    "f(y ; x)=-\\frac{1}{{\\sqrt{2 \\pi}}^{n}} e^{-| | y-A x| |^{2} / 2}[({A}^{T}Ax-{A}^{T}y)]\n",
    "$$"
   ]
  },
  {
   "cell_type": "code",
   "execution_count": 18,
   "metadata": {},
   "outputs": [],
   "source": [
    "def gradient(A, x, y):\n",
    "    \"\"\"\n",
    "    This function computes the gradient of (scaled) log likelihood \n",
    "    \n",
    "    Parameters\n",
    "    ----------\n",
    "    A: {array-like, matrix}, shape (n, d)\n",
    "       Known matrix\n",
    "       \n",
    "    x: ndarray, shape (d,)\n",
    "       UnKnown vector\n",
    "    \n",
    "    y: ndarray, shape (n,)\n",
    "       Array of labels.    \n",
    "       \n",
    "    Returns\n",
    "    -------\n",
    "    gradient: float\n",
    "        \n",
    "    \"\"\"    \n",
    "    return loglikelihood(A,x,y)*(A.T*y-A.T*A*x)"
   ]
  },
  {
   "cell_type": "markdown",
   "metadata": {},
   "source": [
    "Implement a function gradient_descent that given $A, y, T, \\gamma, x^{i n i t}$\n",
    "; $x^{i n i t}$\n",
    "runs gradient descent starting at xinit for T steps with step size \n",
    ".\n",
    "This function should use the previous one to compute a gradient in\n",
    "each step. The output of the function should be an array of all T + 1\n",
    "iterates that gradient descent computed."
   ]
  },
  {
   "cell_type": "code",
   "execution_count": 20,
   "metadata": {},
   "outputs": [],
   "source": [
    "def gradient_descent(A, y, T, gamma, x_init):\n",
    "    \"\"\"\n",
    "    This function implements gradient descent\n",
    "    \n",
    "    Parameters\n",
    "    ----------\n",
    "    A: {array-like, matrix}, shape (n, d)\n",
    "       Data matrix\n",
    "       \n",
    "    x_init: ndarray, shape (d,)\n",
    "       initial vector\n",
    "    \n",
    "    y: ndarray, shape (n,)\n",
    "       Array of labels.    \n",
    "    \n",
    "    \n",
    "    \n",
    "    Returns\n",
    "    -------\n",
    "    gradient_descent: float\n",
    "    \n",
    "    \"\"\"\n",
    "    "
   ]
  },
  {
   "cell_type": "code",
   "execution_count": null,
   "metadata": {},
   "outputs": [],
   "source": []
  }
 ],
 "metadata": {
  "kernelspec": {
   "display_name": "Python 3",
   "language": "python",
   "name": "python3"
  },
  "language_info": {
   "codemirror_mode": {
    "name": "ipython",
    "version": 3
   },
   "file_extension": ".py",
   "mimetype": "text/x-python",
   "name": "python",
   "nbconvert_exporter": "python",
   "pygments_lexer": "ipython3",
   "version": "3.7.1"
  }
 },
 "nbformat": 4,
 "nbformat_minor": 2
}
