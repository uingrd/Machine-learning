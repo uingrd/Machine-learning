{
 "cells": [
  {
   "cell_type": "markdown",
   "metadata": {},
   "source": [
    "# workshop project"
   ]
  },
  {
   "cell_type": "markdown",
   "metadata": {},
   "source": [
    "The goal is to implement algorithms for (sparse) linear regression and to\n",
    "conduct experiments\n",
    "The implementations and experiments should be conducted using python\n",
    "in a jupyter notebook. Every function you implement should have a doc\n",
    "strings that describes the role of the function arguments, the effect of the\n",
    "function, and the output of the function. Your code should not access the\n",
    "filesystem in any way.\n",
    "Do at least two of the optional steps. (You can also propose to me other\n",
    "experiments that you want to carry out instead.)"
   ]
  },
  {
   "cell_type": "code",
   "execution_count": 2,
   "metadata": {},
   "outputs": [],
   "source": [
    "# Author: Donglin Zhan <@>"
   ]
  },
  {
   "cell_type": "code",
   "execution_count": 3,
   "metadata": {},
   "outputs": [],
   "source": [
    "import numpy as np\n",
    "import pandas as pd \n",
    "import matplotlib.pyplot as plt \n",
    "import seaborn as sns"
   ]
  },
  {
   "cell_type": "markdown",
   "metadata": {},
   "source": [
    "Implement a function draw_observation that given a matrix A and a\n",
    "vector $x^{0}$, outputs a realization of the random variable $\n",
    "A x^{0}+\\boldsymbol{w}\n",
    "$, where\n",
    "w is a standard Gaussian."
   ]
  },
  {
   "cell_type": "code",
   "execution_count": 4,
   "metadata": {},
   "outputs": [],
   "source": [
    "def draw_observation(A, x0):\n",
    "    \"\"\"computes a random variable np.dot(A, x0) + w\n",
    "       w ~ Gaussian(loc = 0., scale = 1.)\n",
    "    \n",
    "    This function computes a random variable Ax0+w, where\n",
    "    w is a standard Gaussian.\n",
    "    \n",
    "    \n",
    "    Parameters\n",
    "    ----------\n",
    "    A: {array-like, matrix}, shape (n, d)\n",
    "       Known matrix\n",
    "       \n",
    "    x0: ndarray, shape (d,)\n",
    "       Unknown vector\n",
    "       \n",
    "    Returns\n",
    "    -------\n",
    "    draw_observation: ndarray, shape(n,)\n",
    "    \n",
    "    \n",
    "    \"\"\"\n",
    "    w = np.random.normal(size = A.shape[0])\n",
    "    return np.dot(A,x0) + w"
   ]
  },
  {
   "cell_type": "markdown",
   "metadata": {},
   "source": [
    "Implement a function prediction_error that given $\n",
    "A, x^{0}, x\n",
    "$ outputs\n",
    "the square prediction error $\n",
    "1 / n \\cdot\\left\\|A x-A x^{0}\\right\\|^{2}\n",
    "$"
   ]
  },
  {
   "cell_type": "code",
   "execution_count": 5,
   "metadata": {},
   "outputs": [],
   "source": [
    "def prediction_error(A, x0, x):\n",
    "    \"\"\"\n",
    "    This function computes the square prediction error \n",
    "    \n",
    "    Parameters\n",
    "    ----------\n",
    "    A: {array-like, matrix}, shape (n, d)\n",
    "       Known matrix\n",
    "       \n",
    "    x0: ndarray, shape (d,)\n",
    "       Unknown vector\n",
    "    \n",
    "    x: ndarray, shape (n,)\n",
    "       Estimation vector    \n",
    "       \n",
    "    Returns\n",
    "    -------\n",
    "    prediction_error: float\n",
    "\n",
    "        \n",
    "    \"\"\"\n",
    "    return 1/(A.shape[0])*(np.linalg.norm(np.dot(A, x) - np.dot(A, x0), ord=2) ** 2)"
   ]
  },
  {
   "cell_type": "markdown",
   "metadata": {},
   "source": [
    "Implement a function loglikelihood that given $\n",
    "A, x, y\n",
    "$ outputs the\n",
    "(scaled) log likelihood $\n",
    "1 / n \\cdot\\|A x-y\\|^{2}\n",
    "$"
   ]
  },
  {
   "cell_type": "markdown",
   "metadata": {},
   "source": [
    "$$\n",
    "f(y ; x)=\\frac{1}{{\\sqrt{2 \\pi}}^{n}} e^{-| | y-A x| |^{2} / 2}\n",
    "$$"
   ]
  },
  {
   "cell_type": "code",
   "execution_count": 6,
   "metadata": {},
   "outputs": [],
   "source": [
    "def loglikelihood(A, x, y):\n",
    "    \"\"\"\n",
    "    This function computes the  (scaled) log likelihood \n",
    "    \n",
    "    Parameters\n",
    "    ----------\n",
    "    A: {array-like, matrix}, shape (n, d)\n",
    "       Known matrix\n",
    "       \n",
    "    x: ndarray, shape (d,)\n",
    "       Unknown vector\n",
    "    \n",
    "    y: ndarray, shape (n,)\n",
    "       Array of labels.    \n",
    "       \n",
    "    Returns\n",
    "    -------\n",
    "    loglikelihood: float\n",
    "        \n",
    "    \"\"\"    \n",
    "    return 1/np.power(np.sqrt(2*np.pi), A.shape[0]) * np.exp(-1*np.linalg.norm(y - np.dot(A, x))/2)\n"
   ]
  },
  {
   "cell_type": "markdown",
   "metadata": {},
   "source": [
    "Implement a function gradient that given $\n",
    "A, x, y\n",
    "$ outputs the gradient\n",
    "of the above log likelihood function with respect to x"
   ]
  },
  {
   "cell_type": "markdown",
   "metadata": {},
   "source": [
    "$$\n",
    "f(y ; x)=-\\frac{1}{{\\sqrt{2 \\pi}}^{n}} e^{-| | y-A x| |^{2} / 2}[({A}^{T}Ax-{A}^{T}y)]\n",
    "$$"
   ]
  },
  {
   "cell_type": "code",
   "execution_count": 7,
   "metadata": {},
   "outputs": [],
   "source": [
    "def gradient(A, x, y):\n",
    "    \"\"\"\n",
    "    This function computes the gradient of (scaled) log likelihood \n",
    "    \n",
    "    Parameters\n",
    "    ----------\n",
    "    A: {array-like, matrix}, shape (n, d)\n",
    "       Known matrix\n",
    "       \n",
    "    x: ndarray, shape (d,)\n",
    "       UnKnown vector\n",
    "    \n",
    "    y: ndarray, shape (n,)\n",
    "       Array of labels.    \n",
    "       \n",
    "    Returns\n",
    "    -------\n",
    "    gradient: float\n",
    "        \n",
    "    \"\"\"    \n",
    "    return loglikelihood(A,x,y)*(np.dot(A.T,y)-np.dot(np.dot(A.T,A),x))"
   ]
  },
  {
   "cell_type": "markdown",
   "metadata": {},
   "source": [
    "Implement a function gradient_descent that given $A, y, T, \\gamma, x^{i n i t}$\n",
    "; $x^{i n i t}$\n",
    "runs gradient descent starting at xinit for T steps with step size \n",
    ".\n",
    "This function should use the previous one to compute a gradient in\n",
    "each step. The output of the function should be an array of all T + 1\n",
    "iterates that gradient descent computed."
   ]
  },
  {
   "cell_type": "code",
   "execution_count": 8,
   "metadata": {},
   "outputs": [],
   "source": [
    "def gradient_descent(A, y, T, gamma, x_init):\n",
    "    \"\"\"\n",
    "    This function implements gradient descent\n",
    "    \n",
    "    Parameters\n",
    "    ----------\n",
    "    A: {array-like, matrix}, shape (n, d)\n",
    "       Known matrix\n",
    "       \n",
    "    x_init: ndarray, shape (d,)\n",
    "       initial vector\n",
    "    \n",
    "    y: ndarray, shape (n,)\n",
    "       Array of labels.    \n",
    "    \n",
    "    T: scalar\n",
    "       step\n",
    "    \n",
    "    gamma: float \n",
    "       step size\n",
    "    \n",
    "    Returns\n",
    "    -------\n",
    "    x_step: ndarray\n",
    "    all T + 1 iterates that gradient descent computed\n",
    "    \n",
    "    \"\"\"\n",
    "    x_step = x_init\n",
    "    print('init_step: 1 x_step',x_step)\n",
    "    for i in range(1,T+1):\n",
    "        x_step -= gamma * gradient(A, x_step, y)\n",
    "        print('step:',i+1,'x_step',x_step)\n",
    "    return x_step"
   ]
  },
  {
   "cell_type": "code",
   "execution_count": 40,
   "metadata": {},
   "outputs": [
    {
     "name": "stdout",
     "output_type": "stream",
     "text": [
      "init_step: 1 x_step [1. 1. 1. 1.]\n",
      "step: 2 x_step [1.00042525 1.00042525 1.00042525 1.00042525]\n",
      "step: 3 x_step [1.00085011 1.00085011 1.00085011 1.00085011]\n",
      "step: 4 x_step [1.00127459 1.00127459 1.00127459 1.00127459]\n",
      "step: 5 x_step [1.00169868 1.00169868 1.00169868 1.00169868]\n",
      "step: 6 x_step [1.00212239 1.00212239 1.00212239 1.00212239]\n",
      "step: 7 x_step [1.00254572 1.00254572 1.00254572 1.00254572]\n",
      "step: 8 x_step [1.00296867 1.00296867 1.00296867 1.00296867]\n",
      "step: 9 x_step [1.00339123 1.00339123 1.00339123 1.00339123]\n",
      "step: 10 x_step [1.00381341 1.00381341 1.00381341 1.00381341]\n",
      "step: 11 x_step [1.00423522 1.00423522 1.00423522 1.00423522]\n"
     ]
    },
    {
     "data": {
      "text/plain": [
       "array([1.00423522, 1.00423522, 1.00423522, 1.00423522])"
      ]
     },
     "execution_count": 40,
     "metadata": {},
     "output_type": "execute_result"
    }
   ],
   "source": [
    "'''\n",
    "Test\n",
    "'''\n",
    "A = np.ones([3,4])\n",
    "x_init = np.ones([4])\n",
    "y = np.ones([3])\n",
    "T = 10\n",
    "gamma = 0.01\n",
    "gradient_descent(A,y,T,gamma,x_init)"
   ]
  },
  {
   "cell_type": "markdown",
   "metadata": {},
   "source": [
    "Implement a function plot_prediction that given $A, x^{0}$ and a list of\n",
    "iterates plots the prediction errors of the iterates"
   ]
  },
  {
   "cell_type": "code",
   "execution_count": 10,
   "metadata": {},
   "outputs": [],
   "source": [
    "def plot_prediction(A, x0, iterates):\n",
    "    \"\"\"\n",
    "    This function plots the prediction errors\n",
    "    \n",
    "    Parameters\n",
    "    ----------\n",
    "    A: {array-like, matrix}, shape (n, d)\n",
    "       Known matrix\n",
    "       \n",
    "    x0: ndarray, shape (d,)\n",
    "       UnKnown vector\n",
    "    \n",
    "    iterates: list\n",
    "       Iterates contains x list\n",
    "       \n",
    "    Returns\n",
    "    -------\n",
    "    None\n",
    "        \n",
    "    \"\"\" \n",
    "    error_list = []\n",
    "    for x in iterates:\n",
    "        error_list.append(prediction_error(A,x0,x))\n",
    "    plt.plot(error_list)"
   ]
  },
  {
   "cell_type": "code",
   "execution_count": 11,
   "metadata": {},
   "outputs": [
    {
     "data": {
      "image/png": "[encoded data removed]",
      "text/plain": [
       "<Figure size 432x288 with 1 Axes>"
      ]
     },
     "metadata": {
      "needs_background": "light"
     },
     "output_type": "display_data"
    }
   ],
   "source": [
    "'''\n",
    "Test plot_prediction\n",
    "'''\n",
    "A = np.random.normal(size = [3,4])\n",
    "x0 = np.random.normal(size = 4)\n",
    "iterates = []\n",
    "iterates.append(np.random.normal(size = 4))\n",
    "iterates.append(np.random.normal(size = 4))\n",
    "iterates.append(np.random.normal(size = 4))\n",
    "iterates.append(np.random.normal(size = 4))\n",
    "\n",
    "plot_prediction(A, x0, iterates)"
   ]
  },
  {
   "cell_type": "markdown",
   "metadata": {},
   "source": [
    "Implement a function plot_optimization that given $A, y$ and a list of\n",
    "iterates plots the loglikelihoods of the iterates"
   ]
  },
  {
   "cell_type": "code",
   "execution_count": 12,
   "metadata": {},
   "outputs": [],
   "source": [
    "def plot_optimization(A, y, iterates):\n",
    "    \"\"\"\n",
    "    This function plots the prediction errors\n",
    "    \n",
    "    Parameters\n",
    "    ----------\n",
    "    A: {array-like, matrix}, shape (n, d)\n",
    "       Known matrix\n",
    "       \n",
    "    y: ndarray, shape (n,)\n",
    "       Array of labels.    \n",
    "    \n",
    "    iterates: list\n",
    "       Iterates contains x list\n",
    "       \n",
    "    Returns\n",
    "    -------\n",
    "    None\n",
    "        \n",
    "    \"\"\" \n",
    "    likelihood_list = []\n",
    "    for x in iterates:\n",
    "         likelihood.append(loglikelihood(A,x,y))\n",
    "    plt.plot(likelihood_list)\n",
    "    "
   ]
  },
  {
   "cell_type": "markdown",
   "metadata": {},
   "source": [
    "Implement a function random_unit_vector that given d outputs a\n",
    "random unit vector. You can obtain such a vector by first choosing\n",
    "a d-dimensional standard Gaussian vector v and then scaling this\n",
    "vector by $1 /\\|v\\|$"
   ]
  },
  {
   "cell_type": "code",
   "execution_count": 13,
   "metadata": {},
   "outputs": [],
   "source": [
    "def random_unit_vector(d):\n",
    "    \"\"\"\n",
    "    This function generates a random unit vector\n",
    "    \n",
    "    Parameters\n",
    "    ----------\n",
    "       \n",
    "    d: scalar\n",
    "       dimensions of Gaussian     \n",
    "\n",
    "    Returns\n",
    "    -------\n",
    "    random_unit_vector:ndarray\n",
    "        \n",
    "    \"\"\" \n",
    "    d_dim_normal = np.random.multivariate_normal(mean=np.zeros(d),cov = np.eye(d))\n",
    "    return d_dim_normal/np.linalg.norm(d_dim_normal)"
   ]
  },
  {
   "cell_type": "markdown",
   "metadata": {},
   "source": [
    "Implement a function random_model that given d and n, outputs a\n",
    "matrix A and a vector x0 such that every entry of A is a standard\n",
    "Gaussian and x0 is a random unit vector."
   ]
  },
  {
   "cell_type": "code",
   "execution_count": 14,
   "metadata": {},
   "outputs": [],
   "source": [
    "def random_model(d, n):\n",
    "    \"\"\"\n",
    "    This function generates a matrix whose every entry is a \n",
    "    standard Gaussian and a vector x0 is a randoim unit vector\n",
    "    \n",
    "    Parameters\n",
    "    ----------\n",
    "       \n",
    "    d: scalar\n",
    "       dimensions of Gaussian     \n",
    "    \n",
    "    n: scalar\n",
    "       number of entries\n",
    "       \n",
    "    Returns\n",
    "    -------\n",
    "    A: matrix, shape (n, d)\n",
    "    x0: ndarray, shape(d,)\n",
    "        \n",
    "    \"\"\" \n",
    "    A = np.random.multivariate_normal(mean=np.zeros(d),cov = np.eye(d),size=n)\n",
    "    x0 = random_unit_vector(d)\n",
    "    return A, x0"
   ]
  },
  {
   "cell_type": "markdown",
   "metadata": {},
   "source": [
    "Conduct some experiments. Choose values of d and n. Choose a step\n",
    "size \n",
    " and a number of steps T. Choose A and x0 using the function\n",
    "random_model. Choose xinit as a random unit vector. Show the plots\n",
    "for the prediction error and the loglikelihoods."
   ]
  },
  {
   "cell_type": "code",
   "execution_count": 53,
   "metadata": {},
   "outputs": [],
   "source": [
    "# choose n = 3, d = 4, gamma = 0.01, T = 10\n",
    "n,d,gamma,T = 30,2,0.01,10\n",
    "A, x0 = random_model(d,n)\n",
    "x_init = random_unit_vector(d)\n",
    "x_step = x_init\n",
    "error_list = []\n",
    "loglikelihood_list = []\n",
    "# y = np.dot(A, x0)\n",
    "y = draw_observation(A, x0)\n",
    "for i in range(1, T+1):\n",
    "    error_list.append(prediction_error(A, x0, x_step))\n",
    "    loglikelihood_list.append(loglikelihood(A, x_step, y))\n",
    "    x_step -= gamma * gradient(A, x_step , y)"
   ]
  },
  {
   "cell_type": "code",
   "execution_count": 54,
   "metadata": {},
   "outputs": [
    {
     "data": {
      "text/plain": [
       "[<matplotlib.lines.Line2D at 0x1a1f94bb38>]"
      ]
     },
     "execution_count": 54,
     "metadata": {},
     "output_type": "execute_result"
    },
    {
     "data": {
      "image/png": "[encoded data removed]",
      "text/plain": [
       "<Figure size 432x288 with 1 Axes>"
      ]
     },
     "metadata": {
      "needs_background": "light"
     },
     "output_type": "display_data"
    }
   ],
   "source": [
    "plt.plot(error_list)"
   ]
  },
  {
   "cell_type": "code",
   "execution_count": 55,
   "metadata": {},
   "outputs": [
    {
     "data": {
      "text/plain": [
       "[<matplotlib.lines.Line2D at 0x1a1f9a4f60>]"
      ]
     },
     "execution_count": 55,
     "metadata": {},
     "output_type": "execute_result"
    },
    {
     "data": {
      "image/png": "[encoded data removed]",
      "text/plain": [
       "<Figure size 432x288 with 1 Axes>"
      ]
     },
     "metadata": {
      "needs_background": "light"
     },
     "output_type": "display_data"
    }
   ],
   "source": [
    "plt.plot(loglikelihood_list)"
   ]
  },
  {
   "cell_type": "code",
   "execution_count": null,
   "metadata": {},
   "outputs": [],
   "source": []
  },
  {
   "cell_type": "code",
   "execution_count": null,
   "metadata": {},
   "outputs": [],
   "source": []
  },
  {
   "cell_type": "code",
   "execution_count": null,
   "metadata": {},
   "outputs": [],
   "source": []
  },
  {
   "cell_type": "code",
   "execution_count": null,
   "metadata": {},
   "outputs": [],
   "source": []
  },
  {
   "cell_type": "code",
   "execution_count": null,
   "metadata": {},
   "outputs": [],
   "source": []
  },
  {
   "cell_type": "code",
   "execution_count": null,
   "metadata": {},
   "outputs": [],
   "source": []
  },
  {
   "cell_type": "code",
   "execution_count": null,
   "metadata": {},
   "outputs": [],
   "source": []
  }
 ],
 "metadata": {
  "kernelspec": {
   "display_name": "Python 3",
   "language": "python",
   "name": "python3"
  },
  "language_info": {
   "codemirror_mode": {
    "name": "ipython",
    "version": 3
   },
   "file_extension": ".py",
   "mimetype": "text/x-python",
   "name": "python",
   "nbconvert_exporter": "python",
   "pygments_lexer": "ipython3",
   "version": "3.6.8"
  }
 },
 "nbformat": 4,
 "nbformat_minor": 2
}
