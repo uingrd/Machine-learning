{
 "cells": [
  {
   "cell_type": "code",
   "execution_count": 1,
   "metadata": {},
   "outputs": [
    {
     "name": "stderr",
     "output_type": "stream",
     "text": [
      "/Users/frank/anaconda3/envs/sampling/lib/python3.6/site-packages/h5py/__init__.py:36: FutureWarning: Conversion of the second argument of issubdtype from `float` to `np.floating` is deprecated. In future, it will be treated as `np.float64 == np.dtype(float).type`.\n",
      "  from ._conv import register_converters as _register_converters\n"
     ]
    },
    {
     "name": "stdout",
     "output_type": "stream",
     "text": [
      "\n",
      "WARNING: The TensorFlow contrib module will not be included in TensorFlow 2.0.\n",
      "For more information, please see:\n",
      "  * https://github.com/tensorflow/community/blob/master/rfcs/20180907-contrib-sunset.md\n",
      "  * https://github.com/tensorflow/addons\n",
      "If you depend on functionality not listed there, please file an issue.\n",
      "\n"
     ]
    }
   ],
   "source": [
    "import numpy as np\n",
    "import matplotlib.pyplot as plt \n",
    "import tensorflow as tf\n",
    "tfd = tf.contrib.distributions \n",
    "tfb = tfd.bijectors"
   ]
  },
  {
   "cell_type": "code",
   "execution_count": 7,
   "metadata": {},
   "outputs": [],
   "source": [
    "DEBUG = True"
   ]
  },
  {
   "cell_type": "code",
   "execution_count": 11,
   "metadata": {},
   "outputs": [
    {
     "name": "stdout",
     "output_type": "stream",
     "text": [
      "x2_samples:  Tensor(\"Normal_6/sample/Reshape:0\", shape=(512,), dtype=float32)\n"
     ]
    }
   ],
   "source": [
    "batch_size = 512\n",
    "x2_dist = tfd.Normal(loc = 0., scale = 4.)\n",
    "x2_samples = x2_dist.sample(batch_size)\n",
    "if DEBUG:\n",
    "    print('x2_samples: ',x2_samples)"
   ]
  },
  {
   "cell_type": "code",
   "execution_count": 22,
   "metadata": {},
   "outputs": [
    {
     "name": "stdout",
     "output_type": "stream",
     "text": [
      "x1_samples: Tensor(\"Normal_10/sample/Reshape:0\", shape=(512,), dtype=float32)\n"
     ]
    }
   ],
   "source": [
    "x1_dist = tfd.Normal(loc = 0.25 * tf.square(x2_samples),\n",
    "                    scale = tf.ones(batch_size, dtype = tf.float32))\n",
    "x1_samples = x1_dist.sample()\n",
    "if DEBUG:\n",
    "    print('x1_samples:',x1_samples)"
   ]
  },
  {
   "cell_type": "code",
   "execution_count": 24,
   "metadata": {},
   "outputs": [
    {
     "name": "stdout",
     "output_type": "stream",
     "text": [
      "x_samples: Tensor(\"stack_1:0\", shape=(512, 2), dtype=float32)\n"
     ]
    }
   ],
   "source": [
    "x_samples = tf.stack([x1_samples, x2_samples], axis = 1)\n",
    "if DEBUG:\n",
    "    print('x_samples:', x_samples)"
   ]
  },
  {
   "cell_type": "code",
   "execution_count": 28,
   "metadata": {},
   "outputs": [],
   "source": [
    "# Use Isotropic Gaussian\n",
    "\n",
    "base_dist = tfd.MultivariateNormalDiag(loc = tf.zeros([2], tf.float32))"
   ]
  },
  {
   "cell_type": "code",
   "execution_count": 30,
   "metadata": {},
   "outputs": [],
   "source": [
    "class LeakyReLU(tfb.Bijector):\n",
    "    def __init__(self, alpha = 0.5, validate_args = False, name = 'leaky_relu'):\n",
    "        super(LeakyRelu, self).__init__(\n",
    "                    event_ndims = 1, validate_args = validate_args, name = name)\n",
    "        self.alpha = alpha \n",
    "    \n",
    "    def _forward(self, x):\n",
    "        return tf.where(tf.greater_equal(x,0), x, self.alpha * x)"
   ]
  },
  {
   "cell_type": "code",
   "execution_count": null,
   "metadata": {},
   "outputs": [],
   "source": []
  }
 ],
 "metadata": {
  "kernelspec": {
   "display_name": "Python 3",
   "language": "python",
   "name": "python3"
  },
  "language_info": {
   "codemirror_mode": {
    "name": "ipython",
    "version": 3
   },
   "file_extension": ".py",
   "mimetype": "text/x-python",
   "name": "python",
   "nbconvert_exporter": "python",
   "pygments_lexer": "ipython3",
   "version": "3.6.8"
  }
 },
 "nbformat": 4,
 "nbformat_minor": 2
}
